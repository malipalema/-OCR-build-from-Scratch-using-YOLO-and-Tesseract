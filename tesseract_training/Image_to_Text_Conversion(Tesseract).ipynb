{
 "cells": [
  {
   "cell_type": "markdown",
   "metadata": {},
   "source": [
    "## Using Tesseract Pre-trained LSTM Model"
   ]
  },
  {
   "cell_type": "markdown",
   "metadata": {},
   "source": [
    "### Importing pytesseract and setting environment variable for english trained data"
   ]
  },
  {
   "cell_type": "code",
   "execution_count": 2,
   "metadata": {},
   "outputs": [],
   "source": [
    "import pytesseract as p\n",
    "import os\n",
    "os.environ[\"TESSDATA_PREFIX\"] = 'C:/Users/makhang/Downloads/Invoice_pro/tesseract_training/Tesseract-OCR/tessdata/'\n"
   ]
  },
  {
   "cell_type": "markdown",
   "metadata": {},
   "source": [
    "### Getting list of files from the directory"
   ]
  },
  {
   "cell_type": "code",
   "execution_count": 3,
   "metadata": {},
   "outputs": [
    {
     "name": "stdout",
     "output_type": "stream",
     "text": [
      "['.ipynb_checkpoints', 'Amount_one.png', 'Amount_three.png', 'Amount_two.png', 'checkpoint_tesseract', 'Date_one.png', 'Date_three.png', 'Date_two.png', 'demo.tif', 'eng.training_files.txt', 'Image_to_Text_Conversion(Tesseract).ipynb', 'Invoice Number_one.png', 'Invoice Number_two.png', 'invoices_data.lstmf', 'invoices_data.txt', 'invoices_pro.box', 'invoices_pro.tif', 'invoices_pro.traineddata', 'jTessBoxEditor-2.3.1', 'Tesseract-OCR']\n"
     ]
    }
   ],
   "source": [
    "from os import listdir\n",
    "files = [f for f in listdir('C:/Users/makhang/Downloads/Invoice_pro/tesseract_training/') ]\n",
    "print(files)"
   ]
  },
  {
   "cell_type": "markdown",
   "metadata": {},
   "source": [
    "### Looping through different cropped images based on their filename"
   ]
  },
  {
   "cell_type": "code",
   "execution_count": 4,
   "metadata": {},
   "outputs": [
    {
     "name": "stdout",
     "output_type": "stream",
     "text": [
      "{'Amount': '$5,500.00', 'Date': '07/03/2019', 'Invoice Number': '0000005'}\n"
     ]
    }
   ],
   "source": [
    "image_to_text_1 = {}\n",
    "\n",
    "for file in files:\n",
    "    if '_one.png' in file:\n",
    "        #print(file[:-6])\n",
    "        #print(file)\n",
    "        image_to_text = p.image_to_string(file)\n",
    "        #print(file[:-6])\n",
    "        image_to_text_stripped = image_to_text.rstrip(\"\\n\\x0c\")\n",
    "        image_to_text_1[file.split('.')[0].split('_')[0]] = image_to_text_stripped\n",
    "\n",
    "print(image_to_text_1)"
   ]
  },
  {
   "cell_type": "code",
   "execution_count": 5,
   "metadata": {},
   "outputs": [
    {
     "name": "stdout",
     "output_type": "stream",
     "text": [
      "{'Amount': '140', 'Date': '25 JAN 2019', 'Invoice Number': '123456'}\n"
     ]
    }
   ],
   "source": [
    "image_to_text_2 = {}\n",
    "\n",
    "for file in files:\n",
    "    if '_two.png' in file:\n",
    "        #print(file[:-6])\n",
    "        #print(file)\n",
    "        image_to_text = p.image_to_string(file)\n",
    "        #print(file[:-6])\n",
    "        image_to_text_stripped = image_to_text.rstrip(\"\\n\\x0c\")\n",
    "        image_to_text_2[file.split('.')[0].split('_')[0]] = image_to_text_stripped\n",
    "\n",
    "print(image_to_text_2)"
   ]
  },
  {
   "cell_type": "code",
   "execution_count": 6,
   "metadata": {},
   "outputs": [
    {
     "name": "stdout",
     "output_type": "stream",
     "text": [
      "{'Amount': '$685.35', 'Date': '2018-04-11'}\n"
     ]
    }
   ],
   "source": [
    "image_to_text_3 = {}\n",
    "\n",
    "for file in files:\n",
    "    if '_three.png' in file:\n",
    "        #print(file[:-6])\n",
    "        #print(file)\n",
    "        image_to_text = p.image_to_string(file)\n",
    "        #print(file[:-6])\n",
    "        image_to_text_stripped = image_to_text.rstrip(\"\\n\\x0c\")\n",
    "        image_to_text_3[file.split('.')[0].split('_')[0]] = image_to_text_stripped\n",
    "\n",
    "print(image_to_text_3)"
   ]
  },
  {
   "cell_type": "markdown",
   "metadata": {},
   "source": [
    "# Using  Fine-tuned LSTM Model"
   ]
  },
  {
   "cell_type": "code",
   "execution_count": 7,
   "metadata": {},
   "outputs": [
    {
     "name": "stdout",
     "output_type": "stream",
     "text": [
      "{'Amount': '$S,S00.00', 'Date': '07/03/2019', 'Invoice Number': '0000005'}\n"
     ]
    }
   ],
   "source": [
    "image_to_text_1 = {}\n",
    "\n",
    "for file in files:\n",
    "    if '_one.png' in file:\n",
    "        #print(file[:-6])\n",
    "        #print(file)\n",
    "        image_to_text = p.image_to_string(file,config='-l invoices_pro')\n",
    "        #print(file[:-6])\n",
    "        image_to_text_stripped = image_to_text.rstrip(\"\\n\\x0c\")\n",
    "        image_to_text_1[file.split('.')[0].split('_')[0]] = image_to_text_stripped\n",
    "\n",
    "print(image_to_text_1)"
   ]
  },
  {
   "cell_type": "code",
   "execution_count": 8,
   "metadata": {},
   "outputs": [
    {
     "name": "stdout",
     "output_type": "stream",
     "text": [
      "{'Amount': '140', 'Date': '2S JAN 2019', 'Invoice Number': '1234S6'}\n"
     ]
    }
   ],
   "source": [
    "image_to_text_2 = {}\n",
    "\n",
    "for file in files:\n",
    "    if '_two.png' in file:\n",
    "        #print(file[:-6])\n",
    "        #print(file)\n",
    "        image_to_text = p.image_to_string(file,config='-l invoices_pro')\n",
    "        #print(file[:-6])\n",
    "        image_to_text_stripped = image_to_text.rstrip(\"\\n\\x0c\")\n",
    "        image_to_text_2[file.split('.')[0].split('_')[0]] = image_to_text_stripped\n",
    "\n",
    "print(image_to_text_2)"
   ]
  },
  {
   "cell_type": "code",
   "execution_count": 9,
   "metadata": {},
   "outputs": [
    {
     "name": "stdout",
     "output_type": "stream",
     "text": [
      "{'Amount': '$68S.3S', 'Date': '2018-04-11'}\n"
     ]
    }
   ],
   "source": [
    "image_to_text_3 = {}\n",
    "\n",
    "for file in files:\n",
    "    if '_three.png' in file:\n",
    "        #print(file[:-6])\n",
    "        #print(file)\n",
    "        image_to_text = p.image_to_string(file,config='-l invoices_pro')\n",
    "        #print(file[:-6])\n",
    "        image_to_text_stripped = image_to_text.rstrip(\"\\n\\x0c\")\n",
    "        image_to_text_3[file.split('.')[0].split('_')[0]] = image_to_text_stripped\n",
    "\n",
    "print(image_to_text_3)"
   ]
  },
  {
   "cell_type": "markdown",
   "metadata": {},
   "source": [
    "# ----------------------------     THANK YOU --------------------------------------------------------"
   ]
  }
 ],
 "metadata": {
  "kernelspec": {
   "display_name": "Python 3 (ipykernel)",
   "language": "python",
   "name": "python3"
  },
  "language_info": {
   "codemirror_mode": {
    "name": "ipython",
    "version": 3
   },
   "file_extension": ".py",
   "mimetype": "text/x-python",
   "name": "python",
   "nbconvert_exporter": "python",
   "pygments_lexer": "ipython3",
   "version": "3.9.12"
  }
 },
 "nbformat": 4,
 "nbformat_minor": 4
}
